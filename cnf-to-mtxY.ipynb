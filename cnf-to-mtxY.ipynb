{
    "cells": [
        {
            "cell_type": "code",
            "execution_count": 65,
            "source": [
                "from pycryptosat import Solver\n",
                "import time\n",
                "s = Solver()\n",
                "\n",
                "solver = Solver()\n",
                "\n",
                "# with open(\"./tva15.cnf\", \"r\") as x:\n",
                "#     for i,line in enumerate(x):\n",
                "#         line = line.strip()\n",
                "#         # if(line[0]==\"p\" or line[0]==\"c\"):\n",
                "#         if \"p\" in line or \"c\" in line:\n",
                "#             continue\n",
                "\n",
                "#         out = [int(x) for x in line.split()[:-1]]\n",
                "#         # solver.add_clause(out)\n",
                "# #         print(out)\n",
                "#         if(i==655727-1): # line no. 655243\n",
                "#             st=out\n",
                "#         elif(i==655728-1):\n",
                "#             end = out\n",
                "#         elif(i==655729-1):\n",
                "#             timestamp = out\n",
                "#         else:\n",
                "#             solver.add_clause(out)\n",
                "blockClause = []\n",
                "with open(\"./tva15.cnf\", \"r\") as x:\n",
                "    for i,line in enumerate(x):\n",
                "        line = line.strip()\n",
                "        # if(line[0]==\"p\" or line[0]==\"c\"):\n",
                "        if \"p\" in line or \"c\" in line:\n",
                "            continue\n",
                "\n",
                "        out = [int(x) for x in line.split()[:-1]]\n",
                "        # solver.add_clause(out)\n",
                "#         print(out)\n",
                "        if(i>=1026942-1 and i<1026959-1):\n",
                "            blockClause.append(out)\n",
                "            continue\n",
                "        if(i==1026993-1): # line no. 655243\n",
                "            st=out\n",
                "            continue\n",
                "        elif(i==1026995-1):\n",
                "            end = out\n",
                "            continue\n",
                "        elif(i==1026997-1):\n",
                "            timestamp = out\n",
                "            continue\n",
                "        \n",
                "        solver.add_clause(out)\n",
                "print(st)\n",
                "print(end)\n",
                "print(timestamp)\n",
                "def deform(clause,val):\n",
                "    val = list((bin(val)[2:]).zfill(32))\n",
                "    \n",
                "    val = val[::-1]\n",
                "    \n",
                "    for i in range(len(clause)-1):\n",
                "        clause[i] = abs(clause[i])\n",
                "        if(val[i]==\"0\"):\n",
                "            clause[i]*=-1\n",
                "    return clause\n",
                "sols = None\n",
                "def check(solver,blocks,start_nonce,end_nonce,time_):\n",
                "#     print(id(solver))\n",
                "    block_ = []\n",
                "    global sols\n",
                "    global st,end,timestamp\n",
                "    st = deform(st,start_nonce)\n",
                "    end = deform(end,end_nonce)\n",
                "    for i in range(len(blockClause)):\n",
                "        block_.extend(deform(blockClause[i],blocks[i]-1))\n",
                "    timestamp = deform(timestamp,time_)\n",
                "#     end_range = 497822589\n",
                "    # end_range = 11\n",
                "    start = time.time()\n",
                "    isSAT, sols = solver.solve(st+end+timestamp+block_)\n",
                "    # res, isSAT = solver.solve()\n",
                "    done = time.time()\n",
                "    elapsed = done - start\n",
                "    print(elapsed)\n",
                "#     print(isSAT)\n",
                "    return isSAT\n",
                "print(\"checking\")"
            ],
            "outputs": [
                {
                    "output_type": "stream",
                    "name": "stdout",
                    "text": [
                        "[-70805, 70806, 70807, -70808, 70809, -70810, 70811, 70812, 70813, -70814, -70815, -70816, -70817, -70818, -70819, -70820, -70821, -70822, 70823, 70824, 70825, 70826, 70827, 70828, -70829, 70830, 70831, 70832, -70833, -70834, -70835, -70836, 207503]\n",
                        "[70837, 70838, -70839, -70840, 70841, -70842, 70843, 70844, 70845, -70846, -70847, -70848, -70849, -70850, -70851, -70852, -70853, -70854, 70855, 70856, 70857, 70858, 70859, 70860, -70861, 70862, 70863, 70864, -70865, -70866, -70867, -70868, 207504]\n",
                        "[-70869, -70870, 70871, -70872, -70873, 70874, 70875, 70876, -70877, 70878, -70879, 70880, 70881, 70882, 70883, 70884, 70885, -70886, -70887, 70888, 70889, -70890, 70891, -70892, -70893, 70894, 70895, 70896, -70897, -70898, 70899, -70900, 207505]\n",
                        "checking\n"
                    ]
                }
            ],
            "metadata": {}
        },
        {
            "cell_type": "code",
            "execution_count": 55,
            "source": [
                "# blockClause"
            ],
            "outputs": [],
            "metadata": {}
        },
        {
            "cell_type": "code",
            "execution_count": 59,
            "source": [
                "genesys_block = [16777216, 0, 0, 0, 0, 0, 0, 0, 0, 1000599037, 2054886066, 2059873342, 1735823201, 2143820739, 2290766130, 983546026, 1260281418, 699096905, 4294901789, 250508269]\n",
                "second_block = [16777216,1711699388,2939744218,3252212977,2893103710,2128873143,1431457499,3808690176,0,1803429671,533048842,3073754577,1455291121,3996402020,4104720509,1827684636,4251965418,2004092497,2980447514,4043570730]\n",
                "# block  = genesys_block"
            ],
            "outputs": [],
            "metadata": {}
        },
        {
            "cell_type": "code",
            "execution_count": 27,
            "source": [
                "print(check(solver,block,4043570728,4043570731,2980447514))"
            ],
            "outputs": [
                {
                    "output_type": "stream",
                    "name": "stdout",
                    "text": [
                        "58.030606508255005\n",
                        "True\n"
                    ]
                }
            ],
            "metadata": {}
        },
        {
            "cell_type": "code",
            "execution_count": 49,
            "source": [
                "print(check(solver,second_block,4043570728,4043570731,2980447514))"
            ],
            "outputs": [
                {
                    "output_type": "stream",
                    "name": "stdout",
                    "text": [
                        "541.0479667186737\n",
                        "False\n"
                    ]
                }
            ],
            "metadata": {}
        },
        {
            "cell_type": "code",
            "execution_count": 66,
            "source": [
                "print(check(solver,genesys_block,497822587,497822589,4294901789))"
            ],
            "outputs": [],
            "metadata": {}
        },
        {
            "cell_type": "code",
            "execution_count": 64,
            "source": [
                "print(check(solver,genesys_block,497822587,497822589,4294901789))"
            ],
            "outputs": [
                {
                    "output_type": "stream",
                    "name": "stdout",
                    "text": [
                        "0.06219816207885742\n",
                        "False\n"
                    ]
                }
            ],
            "metadata": {}
        },
        {
            "cell_type": "code",
            "execution_count": 30,
            "source": [
                "with open(\"./tva5.cnf\", \"r\") as x:\n",
                "    for i,line in enumerate(x):\n",
                "        line = line.strip()\n",
                "        # if(line[0]==\"p\" or line[0]==\"c\"):\n",
                "        if \"p\" in line or \"c\" in line:\n",
                "            continue\n",
                "\n",
                "        out = [int(x) for x in line.split()[:-1]]\n",
                "        # solver.add_clause(out)\n",
                "#         print(out)\n",
                "        for o in out:\n",
                "            if(o<0):\n",
                "                sol = toggle(sols[o])\n",
                "            else:\n",
                "                sol = sols[o]\n",
                "            b[i]+=sol\n",
                "        # if(i==655665-1): # line no. 655243\n",
                "        #     st=out\n",
                "        # elif(i==655666-1):\n",
                "        #     end = out\n",
                "        # elif(i==655667-1):\n",
                "        #     timestamp = out\n",
                "        # else:\n",
                "        #     solver.add_clause(out)"
            ],
            "outputs": [],
            "metadata": {}
        },
        {
            "cell_type": "code",
            "execution_count": 20,
            "source": [
                "# a.tolist()"
            ],
            "outputs": [],
            "metadata": {}
        },
        {
            "cell_type": "code",
            "execution_count": 16,
            "source": [
                "def toggle(a):\n",
                "    if(a):\n",
                "        return False\n",
                "    else:\n",
                "        return True"
            ],
            "outputs": [],
            "metadata": {}
        },
        {
            "cell_type": "code",
            "execution_count": 28,
            "source": [
                "import numpy as np\n",
                "b = np.zeros(656312,dtype=np.uint8)\n",
                "print(b)"
            ],
            "outputs": [
                {
                    "output_type": "stream",
                    "name": "stdout",
                    "text": [
                        "[0 0 0 ... 0 0 0]\n"
                    ]
                }
            ],
            "metadata": {}
        },
        {
            "cell_type": "code",
            "execution_count": 29,
            "source": [
                "b"
            ],
            "outputs": [
                {
                    "output_type": "execute_result",
                    "data": {
                        "text/plain": [
                            "array([0, 0, 0, ..., 0, 0, 0], dtype=uint8)"
                        ]
                    },
                    "metadata": {},
                    "execution_count": 29
                }
            ],
            "metadata": {}
        },
        {
            "cell_type": "code",
            "execution_count": 31,
            "source": [
                "import numpy as np\n",
                "\n",
                "np.save(\"b.npy\",b)"
            ],
            "outputs": [],
            "metadata": {}
        },
        {
            "cell_type": "code",
            "execution_count": 32,
            "source": [
                "a"
            ],
            "outputs": [
                {
                    "output_type": "execute_result",
                    "data": {
                        "text/plain": [
                            "array([0, 2, 2, ..., 0, 0, 0], dtype=uint8)"
                        ]
                    },
                    "metadata": {},
                    "execution_count": 32
                }
            ],
            "metadata": {}
        },
        {
            "cell_type": "code",
            "execution_count": 35,
            "source": [
                "print((a==b).sum())"
            ],
            "outputs": [
                {
                    "output_type": "stream",
                    "name": "stdout",
                    "text": [
                        "212935\n",
                        "443377\n"
                    ]
                }
            ],
            "metadata": {}
        },
        {
            "cell_type": "code",
            "execution_count": 33,
            "source": [
                "b"
            ],
            "outputs": [
                {
                    "output_type": "execute_result",
                    "data": {
                        "text/plain": [
                            "array([0, 1, 1, ..., 0, 0, 0], dtype=uint8)"
                        ]
                    },
                    "metadata": {},
                    "execution_count": 33
                }
            ],
            "metadata": {}
        }
    ],
    "metadata": {
        "orig_nbformat": 4,
        "language_info": {
            "name": "python",
            "version": "3.8.10",
            "mimetype": "text/x-python",
            "codemirror_mode": {
                "name": "ipython",
                "version": 3
            },
            "pygments_lexer": "ipython3",
            "nbconvert_exporter": "python",
            "file_extension": ".py"
        },
        "kernelspec": {
            "name": "python3",
            "display_name": "Python 3.8.10 64-bit"
        },
        "interpreter": {
            "hash": "916dbcbb3f70747c44a77c7bcd40155683ae19c65e1c03b4aa3499c5328201f1"
        }
    },
    "nbformat": 4,
    "nbformat_minor": 2
}